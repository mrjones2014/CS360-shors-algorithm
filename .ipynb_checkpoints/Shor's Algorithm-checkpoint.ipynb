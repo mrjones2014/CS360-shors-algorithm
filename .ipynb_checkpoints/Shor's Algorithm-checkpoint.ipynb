{
 "cells": [
  {
   "cell_type": "code",
   "execution_count": 1,
   "metadata": {
    "code_folding": []
   },
   "outputs": [
    {
     "name": "stdout",
     "output_type": "stream",
     "text": [
      "\n",
      "\u001b[1m\u001b[4m\u001b[92mAvailable programs:\u001b[0m\n",
      "\u001b[94m  1. find_period: Takes two integers, a and N, and finds the period of the modular exponentiation function.\u001b[0m\n",
      "\u001b[94m  2. factorize_N: Takes an integer N and finds factors of N using Shor's algorithm.\u001b[0m\n",
      "Select a program to run, or type 'exit' to quit.\n",
      "> 2\n",
      "Enter a value N to factorize:\n",
      "N = 743892784923\n",
      "\u001b[94mSelected random value a=349375342291 to find period.\u001b[0m\n",
      "\u001b[94mUsing Shor's method to find period.\u001b[0m\n",
      "\u001b[93mChose unlucky 'a' value, trying again with new 'a' value...\u001b[0m\n",
      "\u001b[94mSelected random value a=69118283078 to find period.\u001b[0m\n",
      "\u001b[94mUsing Shor's method to find period.\u001b[0m\n",
      "\u001b[92mFound factors: 3 X 247964261641 = 743892784923\u001b[0m\n"
     ]
    }
   ],
   "source": [
    "# %load QuantumProgramRunner.py\n",
    "#!/usr/bin/env python3\n",
    "from Runner import run\n",
    "\n",
    "if __name__ == \"__main__\":\n",
    "    run(None)"
   ]
  },
  {
   "cell_type": "code",
   "execution_count": null,
   "metadata": {},
   "outputs": [],
   "source": []
  }
 ],
 "metadata": {
  "kernelspec": {
   "display_name": "Python 3",
   "language": "python",
   "name": "python3"
  },
  "language_info": {
   "codemirror_mode": {
    "name": "ipython",
    "version": 3
   },
   "file_extension": ".py",
   "mimetype": "text/x-python",
   "name": "python",
   "nbconvert_exporter": "python",
   "pygments_lexer": "ipython3",
   "version": "3.6.5"
  }
 },
 "nbformat": 4,
 "nbformat_minor": 2
}
