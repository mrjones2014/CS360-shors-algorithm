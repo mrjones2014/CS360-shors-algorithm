{
 "cells": [
  {
   "cell_type": "code",
   "execution_count": 3,
   "metadata": {
    "code_folding": []
   },
   "outputs": [
    {
     "name": "stdout",
     "output_type": "stream",
     "text": [
      "\u001b[94mFactorizing N=1789199...\u001b[0m\n",
      "\u001b[93mChose unlucky 'a' value, trying again with new 'a' value (5th try so far)...\u001b[0m\n",
      "\u001b[94mSelected random value a=1615425 to find period.\u001b[0m\n",
      "\u001b[94mFound common period between N=1789199 and a=1615425\u001b[0m\n",
      "\u001b[92mTook 5 guesses for 'a' value.             \u001b[0m\n",
      "\u001b[92mFound factors: 17 X 105247 = 1789199\u001b[0m\n",
      "\n",
      "\u001b[1m\u001b[4m\u001b[92mAvailable programs:\u001b[0m\n",
      "\u001b[94m  1. find_period: Takes two integers, a and N, and finds the period of the modular exponentiation function.\u001b[0m\n",
      "\u001b[94m  2. factorize_N: Takes an integer N and finds factors of N using Shor's algorithm.\u001b[0m\n",
      "Select a program to run, or type 'exit' to quit.\n",
      "> exit\n"
     ]
    },
    {
     "ename": "SystemExit",
     "evalue": "",
     "output_type": "error",
     "traceback": [
      "An exception has occurred, use %tb to see the full traceback.\n",
      "\u001b[0;31mSystemExit\u001b[0m\n"
     ]
    },
    {
     "name": "stderr",
     "output_type": "stream",
     "text": [
      "/Library/Frameworks/Python.framework/Versions/3.6/lib/python3.6/site-packages/IPython/core/interactiveshell.py:2971: UserWarning: To exit: use 'exit', 'quit', or Ctrl-D.\n",
      "  warn(\"To exit: use 'exit', 'quit', or Ctrl-D.\", stacklevel=1)\n"
     ]
    }
   ],
   "source": [
    "# %load QuantumProgramRunner.py\n",
    "#!/usr/bin/env python3\n",
    "from Runner import run\n",
    "\n",
    "if __name__ == \"__main__\":\n",
    "    while run(None):\n",
    "        pass"
   ]
  },
  {
   "cell_type": "code",
   "execution_count": null,
   "metadata": {},
   "outputs": [],
   "source": []
  }
 ],
 "metadata": {
  "kernelspec": {
   "display_name": "Python 3",
   "language": "python",
   "name": "python3"
  },
  "language_info": {
   "codemirror_mode": {
    "name": "ipython",
    "version": 3
   },
   "file_extension": ".py",
   "mimetype": "text/x-python",
   "name": "python",
   "nbconvert_exporter": "python",
   "pygments_lexer": "ipython3",
   "version": "3.6.5"
  }
 },
 "nbformat": 4,
 "nbformat_minor": 2
}
