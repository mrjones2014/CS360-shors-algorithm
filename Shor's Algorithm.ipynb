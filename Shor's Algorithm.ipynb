{
 "cells": [
  {
   "cell_type": "code",
   "execution_count": 5,
   "metadata": {},
   "outputs": [
    {
     "name": "stdout",
     "output_type": "stream",
     "text": [
      "Available backends:\n",
      "  1: local_qasm_simulator\n",
      "  2: ibmqx_hpc_qasm_simulator\n",
      "  3: ibmqx_qasm_simulator\n",
      "  4: local_qasm_simulator\n",
      "  5: local_clifford_simulator\n",
      "  6: local_qiskit_simulator\n",
      "  7: local_unitary_simulator\n",
      "  8: ibmqx4\n",
      "  9: ibmqx5\n",
      "  10: ibmqx2\n",
      "Run on which backend?\n",
      "> 1\n",
      "Available programs:\n",
      "  find_period: Takes two integers, a and N, and finds the period of the modular exponentiation function.\n",
      "  factorize_N: Takes an integer N and finds factors of N using Shor's algorithm.\n",
      "Run which program?\n",
      "> factorize_N\n",
      "Enter a value N to factorize:\n",
      "N = 15\n",
      "Selected random value a=6 to find period.\n",
      "Found common period between N=15 and a=6\n",
      "Found factors: 3 X 5 = 15\n"
     ]
    }
   ],
   "source": [
    "# %load QuantumProgramRunner.py\n",
    "#!/usr/bin/env python3\n",
    "\n",
    "import sys\n",
    "import QuantumCircuits\n",
    "import ExperimentUtils\n",
    "import SignalUtils\n",
    "import random\n",
    "\n",
    "def run(args):\n",
    "    experiment = ExperimentUtils.setup_experiment(args)\n",
    "    program = experiment.qconf.program\n",
    "    timeout = experiment.qconf.timeout\n",
    "    if program == \"find_period\":\n",
    "        N = int(input(\"Enter a value for N:\\nN = \"))\n",
    "        a = input(\"Enter a value for a (or type 'rand' for random value between 2..N-1):\\na = \")\n",
    "        if a == \"rand\":\n",
    "            a = random.randint(2, N-1)\n",
    "        else:\n",
    "            a = int(a)\n",
    "        def run_expr():\n",
    "            r = experiment.find_period(a, N)\n",
    "            print(f\"Found period r={r} for a={a} and N={N}.\")\n",
    "        SignalUtils.tryExecuteWithTimeout(run_expr, timeout, f\"Failed to find period within timeout: {timeout} seconds.\")\n",
    "        return\n",
    "    elif program == \"factorize_N\":\n",
    "        N = int(input(\"Enter a value N to factorize:\\nN = \"))\n",
    "        def run_expr():\n",
    "            factors = experiment.factorize_N(N)\n",
    "            print(f\"Found factors: {factors[0]} X {factors[1]} = {N}\")\n",
    "        SignalUtils.tryExecuteWithTimeout(run_expr, timeout, f\"Failed to factorize {N} within timeout: {timeout} seconds.\")\n",
    "        return\n",
    "    else: \n",
    "        print(f\"FATAL: Failed to find program '{program}'\")    \n",
    "\n",
    "if __name__ == \"__main__\":\n",
    "    run(None)"
   ]
  },
  {
   "cell_type": "code",
   "execution_count": null,
   "metadata": {},
   "outputs": [],
   "source": []
  }
 ],
 "metadata": {
  "kernelspec": {
   "display_name": "Python 3",
   "language": "python",
   "name": "python3"
  },
  "language_info": {
   "codemirror_mode": {
    "name": "ipython",
    "version": 3
   },
   "file_extension": ".py",
   "mimetype": "text/x-python",
   "name": "python",
   "nbconvert_exporter": "python",
   "pygments_lexer": "ipython3",
   "version": "3.6.5"
  }
 },
 "nbformat": 4,
 "nbformat_minor": 2
}
