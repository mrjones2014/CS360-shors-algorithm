{
 "cells": [
  {
   "cell_type": "code",
   "execution_count": 6,
   "metadata": {
    "code_folding": [
     0
    ]
   },
   "outputs": [],
   "source": [
    "# Run this first to install IBMQuantumExperience python package to this Jupyter Notebook\n",
    "try:\n",
    "    from pip import main as pipmain\n",
    "except:\n",
    "    from pip._internal import main as pipmain\n",
    "\n",
    "def install(package):\n",
    "   pipmain(['install', package])\n",
    "\n",
    "def installQISKit():\n",
    "    install('IBMQuantumExperience')"
   ]
  },
  {
   "cell_type": "code",
   "execution_count": 8,
   "metadata": {},
   "outputs": [],
   "source": [
    "# %load ShorsAlgorithm.py\n",
    "from IBMQuantumExperience import IBMQuantumExperience\n",
    "\n",
    "if __name__ == \"__main__\":\n",
    "    apiToken = None\n",
    "    try:\n",
    "        apiToken = open(\"./.qiskit_api_token\", \"r\").read()\n",
    "    except:\n",
    "        apiToken = None\n",
    "    if apiToken is None or apiToken == \"\":\n",
    "        apiToken = input(\"Enter your IBM Quantum Experience API token: \")\n",
    "    \n",
    "    # installQISKit()"
   ]
  },
  {
   "cell_type": "code",
   "execution_count": null,
   "metadata": {},
   "outputs": [],
   "source": []
  }
 ],
 "metadata": {
  "kernelspec": {
   "display_name": "Python 3",
   "language": "python",
   "name": "python3"
  },
  "language_info": {
   "codemirror_mode": {
    "name": "ipython",
    "version": 3
   },
   "file_extension": ".py",
   "mimetype": "text/x-python",
   "name": "python",
   "nbconvert_exporter": "python",
   "pygments_lexer": "ipython3",
   "version": "3.6.5"
  }
 },
 "nbformat": 4,
 "nbformat_minor": 2
}
